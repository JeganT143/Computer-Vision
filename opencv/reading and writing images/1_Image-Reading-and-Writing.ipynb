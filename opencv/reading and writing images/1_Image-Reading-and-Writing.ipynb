{
 "cells": [
  {
   "cell_type": "code",
   "execution_count": 1,
   "id": "55496ade",
   "metadata": {},
   "outputs": [],
   "source": [
    "# !pip install opencv-python\n",
    "# !pip install ipykernel"
   ]
  },
  {
   "cell_type": "code",
   "execution_count": 2,
   "id": "fed79b56",
   "metadata": {},
   "outputs": [],
   "source": [
    "import cv2"
   ]
  },
  {
   "cell_type": "code",
   "execution_count": 7,
   "id": "a41624b5",
   "metadata": {},
   "outputs": [],
   "source": [
    "# Read the image\n",
    "image1 = cv2.imread(\"./1.jpg\") # returns numpy array\n",
    "\n",
    "# if image not presents then it returns None\n",
    "imageNone = cv2.imread(\"./image_not_there.jpg\")\n"
   ]
  },
  {
   "cell_type": "code",
   "execution_count": null,
   "id": "56f9561c",
   "metadata": {},
   "outputs": [
    {
     "name": "stdout",
     "output_type": "stream",
     "text": [
      "Image not Loaded\n"
     ]
    }
   ],
   "source": [
    "# Check if image is loaded\n",
    "if image1 is None:\n",
    "    print(\"Image not Loaded\")\n",
    "else:\n",
    "    print(\"Image Loaded sccuessfully\")"
   ]
  },
  {
   "cell_type": "code",
   "execution_count": 8,
   "id": "4633effb",
   "metadata": {},
   "outputs": [
    {
     "name": "stdout",
     "output_type": "stream",
     "text": [
      "Image not Loaded\n"
     ]
    }
   ],
   "source": [
    "if imageNone is None:\n",
    "    print(\"Image not Loaded\")\n",
    "else:\n",
    "    print(\"Image Loaded scuessfully\")"
   ]
  },
  {
   "cell_type": "code",
   "execution_count": 9,
   "id": "726b0652",
   "metadata": {},
   "outputs": [],
   "source": [
    "# Display the image\n",
    "cv2.imshow(\"Image Window\", image1) # Image is open in window named \"Image Window\"\n",
    "cv2.waitKey(0) # Pauses the program until key is presed  \n",
    "cv2.destroyAllWindows() # Closes all th e opencv windows\n"
   ]
  },
  {
   "cell_type": "code",
   "execution_count": 11,
   "id": "b807a455",
   "metadata": {},
   "outputs": [
    {
     "data": {
      "text/plain": [
       "True"
      ]
     },
     "execution_count": 11,
     "metadata": {},
     "output_type": "execute_result"
    }
   ],
   "source": [
    "# Write the image \n",
    "image1_new = image1 + 60\n",
    "cv2.imshow(\"Edited Image\", image1_new)\n",
    "cv2.waitKey(0)\n",
    "cv2.destroyAllWindows()\n",
    "\n",
    "cv2.imwrite(\"./output_img.jpg\", image1_new)"
   ]
  },
  {
   "cell_type": "code",
   "execution_count": null,
   "id": "d39a2c17",
   "metadata": {},
   "outputs": [],
   "source": []
  }
 ],
 "metadata": {
  "kernelspec": {
   "display_name": "ml",
   "language": "python",
   "name": "python3"
  },
  "language_info": {
   "codemirror_mode": {
    "name": "ipython",
    "version": 3
   },
   "file_extension": ".py",
   "mimetype": "text/x-python",
   "name": "python",
   "nbconvert_exporter": "python",
   "pygments_lexer": "ipython3",
   "version": "3.11.13"
  }
 },
 "nbformat": 4,
 "nbformat_minor": 5
}
