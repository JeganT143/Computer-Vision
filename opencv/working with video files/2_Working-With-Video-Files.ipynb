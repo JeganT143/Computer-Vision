{
 "cells": [
  {
   "cell_type": "markdown",
   "id": "b008d987",
   "metadata": {},
   "source": [
    "* Videos => sequence of images (called frames)\n",
    "* 1 FPS => Frame per second \n",
    "* **Codec**:\n",
    "    * Algorithm used to compress & decompress digital media files \n",
    "    * Four CC => Four Character Code\n",
    "        1. MP4V\n",
    "            * Good for General purpose video compression \n",
    "            * .mp4, .avi\n",
    "        2. HEVC/H.265 \n",
    "            * Better compression for higher resolution like 4k, 8k\n",
    "            * .mp4, .mkv\n",
    "        3. H.264 \n",
    "            * Highly efficient, minimal quality loss\n",
    "            * .mp4, .mkv\n",
    "              "
   ]
  },
  {
   "cell_type": "code",
   "execution_count": 1,
   "id": "86f0890a",
   "metadata": {},
   "outputs": [],
   "source": [
    "import cv2"
   ]
  },
  {
   "cell_type": "code",
   "execution_count": 12,
   "id": "06dfb411",
   "metadata": {},
   "outputs": [],
   "source": [
    "# Load the video\n",
    "\n",
    "# we are creating video capture object.\n",
    "#  it help us to retrieve frames one by onr\n",
    "video1 = cv2.VideoCapture(\"./1.mp4\") "
   ]
  },
  {
   "cell_type": "code",
   "execution_count": 13,
   "id": "e9f5107f",
   "metadata": {},
   "outputs": [],
   "source": [
    "# Display the video\n",
    "while True:\n",
    "    ret, frame = video1.read()\n",
    "    if not ret:\n",
    "        break\n",
    "    cv2.imshow(\"Video Frame\", frame)\n",
    "    if cv2.waitKey(1) & 0xFF == ord('q'): # here waitKey(1) slowdown loop for 1 ms. but in real case it is 1/FPS in ms\n",
    "        break\n",
    "\n",
    "video1.release()\n",
    "cv2.destroyAllWindows()\n"
   ]
  },
  {
   "cell_type": "code",
   "execution_count": 16,
   "id": "61c08d1a",
   "metadata": {},
   "outputs": [],
   "source": [
    "# Write video\n",
    "\n",
    "video1 = cv2.VideoCapture(\"./1.mp4\")\n",
    "fourcc = cv2.VideoWriter_fourcc(*\"mp4v\")\n",
    "width = int(video1.get(cv2.CAP_PROP_FRAME_WIDTH))\n",
    "height = int(video1.get(cv2.CAP_PROP_FRAME_HEIGHT))\n",
    "fps = int(video1.get(cv2.CAP_PROP_FPS))\n",
    "out = cv2.VideoWriter(\"./Output.mp4\" , fourcc, fps,(width, height))\n",
    "\n",
    "while True:\n",
    "    ret, frame = video1.read()\n",
    "    if not ret:\n",
    "        break\n",
    "    out.write(frame)\n",
    "\n",
    "out.release()\n",
    "video1.release()\n",
    "cv2.destroyAllWindows()\n"
   ]
  },
  {
   "cell_type": "code",
   "execution_count": 17,
   "id": "eecdcfde",
   "metadata": {},
   "outputs": [],
   "source": [
    "video1 = cv2.VideoCapture(\"./1.mp4\")\n",
    "fourcc = cv2.VideoWriter_fourcc(*\"mp4v\")\n",
    "width = int(video1.get(cv2.CAP_PROP_FRAME_WIDTH))\n",
    "height = int(video1.get(cv2.CAP_PROP_FRAME_HEIGHT))\n",
    "fps = int(video1.get(cv2.CAP_PROP_FPS))\n",
    "out = cv2.VideoWriter(\"./Output_new.mp4\" , fourcc, fps,(width, height))\n",
    "\n",
    "while True:\n",
    "    ret, frame = video1.read()\n",
    "    if not ret:\n",
    "        break\n",
    "    frame = frame + 20\n",
    "    out.write(frame)\n",
    "\n",
    "out.release()\n",
    "video1.release()\n",
    "cv2.destroyAllWindows()"
   ]
  },
  {
   "cell_type": "markdown",
   "id": "4814b2c3",
   "metadata": {},
   "source": []
  },
  {
   "cell_type": "markdown",
   "id": "1a7727d6",
   "metadata": {},
   "source": []
  }
 ],
 "metadata": {
  "kernelspec": {
   "display_name": "ml",
   "language": "python",
   "name": "python3"
  },
  "language_info": {
   "codemirror_mode": {
    "name": "ipython",
    "version": 3
   },
   "file_extension": ".py",
   "mimetype": "text/x-python",
   "name": "python",
   "nbconvert_exporter": "python",
   "pygments_lexer": "ipython3",
   "version": "3.11.13"
  }
 },
 "nbformat": 4,
 "nbformat_minor": 5
}
